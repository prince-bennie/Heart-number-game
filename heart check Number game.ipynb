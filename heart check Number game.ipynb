{
 "cells": [
  {
   "cell_type": "markdown",
   "id": "a5e1cb4f-9e8f-4a37-b486-077f7f4f9a64",
   "metadata": {},
   "source": [
    "####=======Number Game==========####"
   ]
  },
  {
   "cell_type": "markdown",
   "id": "e43e570a-7b78-4237-9a3c-1c81dfd63d38",
   "metadata": {},
   "source": [
    "#======The schemes involved the building this game=====\n",
    "* conditional statement\n",
    "* for loop\n",
    "* functions"
   ]
  },
  {
   "cell_type": "markdown",
   "id": "5cb382f1-f646-42c5-8f28-0d7555a8d325",
   "metadata": {},
   "source": [
    "conditional statement "
   ]
  },
  {
   "cell_type": "markdown",
   "id": "fb33fe35-08f3-459e-8496-f454715c3c9e",
   "metadata": {},
   "source": [
    "lets statethe condition \n",
    "* 0-12 = child\n",
    "* 13-19=teens\n",
    "* 20-35 -=yound adult\n",
    "* 36-50 = adult\n",
    "* 51 - above = senior citizens\n",
    "  \n"
   ]
  },
  {
   "cell_type": "markdown",
   "id": "2dcc5866-31a8-454a-82eb-7f4baba83b9c",
   "metadata": {},
   "source": [
    "conditional statement"
   ]
  },
  {
   "cell_type": "code",
   "execution_count": 42,
   "id": "64900b5a-4dbe-433e-a898-e969a2aa4b44",
   "metadata": {},
   "outputs": [],
   "source": [
    "age = 56"
   ]
  },
  {
   "cell_type": "code",
   "execution_count": 43,
   "id": "45b3ab62-ae77-4237-830e-6d586475cf8e",
   "metadata": {},
   "outputs": [
    {
     "name": "stdout",
     "output_type": "stream",
     "text": [
      "senior citizens of elderly\n"
     ]
    }
   ],
   "source": [
    "if 0 <= age <=12:\n",
    "    print (\"child\")\n",
    "elif 13<= age <= 19:\n",
    "    print (\"teens\")\n",
    "elif 20<= age <= 35:\n",
    "    print (\"young adult\")\n",
    "elif 36<= age <= 50:\n",
    "    print (\"adult\")\n",
    "else :\n",
    "    print (\"senior citizens of elderly\")\n"
   ]
  },
  {
   "cell_type": "markdown",
   "id": "681899e9-eaf1-494c-bc83-e2c5cf05846c",
   "metadata": {},
   "source": [
    "for loop"
   ]
  },
  {
   "cell_type": "code",
   "execution_count": 44,
   "id": "d9264a8a-c8cc-4680-a4f4-e7248e70b2a1",
   "metadata": {},
   "outputs": [],
   "source": [
    "wish_list= [\n",
    "          \"house\",\n",
    "          \"job\", \"kids\", \n",
    "          \"car\", \"wife\", \"phone\" \n",
    "          \"goodhealth\",\"money\",\n",
    "          \"laptop\",\"vacation\",\n",
    "          \"peace\",\"scholarship\",\n",
    "          \"foreign gig\"\n",
    "           \n",
    "]"
   ]
  },
  {
   "cell_type": "code",
   "execution_count": 45,
   "id": "82f4c15f-36eb-4497-b530-60d98d8d49a9",
   "metadata": {},
   "outputs": [
    {
     "name": "stdout",
     "output_type": "stream",
     "text": [
      "house\n",
      "job\n",
      "kids\n",
      "car\n",
      "wife\n",
      "phonegoodhealth\n",
      "money\n",
      "laptop\n",
      "vacation\n",
      "peace\n",
      "scholarship\n",
      "foreign gig\n"
     ]
    }
   ],
   "source": [
    "for wish in wish_list:\n",
    "    print (wish)\n"
   ]
  },
  {
   "cell_type": "markdown",
   "id": "8d001c93-9c45-4f55-ab13-d635bed8f4f5",
   "metadata": {},
   "source": [
    "FUNCTIONS "
   ]
  },
  {
   "cell_type": "markdown",
   "id": "df1c1206-3c56-4243-b0c9-7060897759b1",
   "metadata": {},
   "source": [
    "\n",
    "*VIEW OR PRINT\n",
    "\n",
    "*WITHDRAW OR RETURN"
   ]
  },
  {
   "cell_type": "code",
   "execution_count": 46,
   "id": "e6bb5d62-8b9a-4236-b017-d7c876ba72a8",
   "metadata": {},
   "outputs": [],
   "source": [
    "def greeting(name):\n",
    "    print (\"hello,\", name , \" hope you are having a great day\")\n",
    "def goodbye(name):\n",
    "    print (\"goodbye,\", name, \"do have a great day ahead\")"
   ]
  },
  {
   "cell_type": "code",
   "execution_count": 47,
   "id": "82c11a20-3d40-4ecb-95de-734efe56d901",
   "metadata": {},
   "outputs": [
    {
     "name": "stdout",
     "output_type": "stream",
     "text": [
      "hello, francis  hope you are having a great day\n"
     ]
    }
   ],
   "source": [
    "greeting (\"francis\")"
   ]
  },
  {
   "cell_type": "markdown",
   "id": "baff187e-7c23-4e4e-86a4-112ae060fde5",
   "metadata": {},
   "source": [
    "combiming for loop and functions"
   ]
  },
  {
   "cell_type": "code",
   "execution_count": 48,
   "id": "de0c51b7-a319-465e-95b7-b522273b2606",
   "metadata": {},
   "outputs": [],
   "source": [
    "list_of_names = [\n",
    "    \"glory\",\n",
    "    \"micheal\",\n",
    "    \"favour\",\n",
    "    \"cordelia\",\n",
    "    \"steven\",\n",
    "    \"figo\",\n",
    "    \"feggy\"\n",
    "]"
   ]
  },
  {
   "cell_type": "code",
   "execution_count": 49,
   "id": "f42a98f6-34f0-4a60-9161-efe5b2d7b70e",
   "metadata": {},
   "outputs": [
    {
     "name": "stdout",
     "output_type": "stream",
     "text": [
      "hello, glory  hope you are having a great day\n",
      "hello, micheal  hope you are having a great day\n",
      "hello, favour  hope you are having a great day\n",
      "hello, cordelia  hope you are having a great day\n",
      "hello, steven  hope you are having a great day\n",
      "hello, figo  hope you are having a great day\n",
      "hello, feggy  hope you are having a great day\n"
     ]
    }
   ],
   "source": [
    "for name in list_of_names:\n",
    "    greeting(name)"
   ]
  },
  {
   "cell_type": "code",
   "execution_count": 54,
   "id": "77bfd8c0-de8c-49ca-8bec-e8c7d486e829",
   "metadata": {},
   "outputs": [
    {
     "name": "stdout",
     "output_type": "stream",
     "text": [
      "goodbye, glory do have a great day ahead\n",
      "goodbye, micheal do have a great day ahead\n",
      "goodbye, favour do have a great day ahead\n",
      "goodbye, cordelia do have a great day ahead\n",
      "goodbye, steven do have a great day ahead\n",
      "goodbye, figo do have a great day ahead\n",
      "goodbye, feggy do have a great day ahead\n"
     ]
    }
   ],
   "source": [
    "for name in list_of_names:\n",
    "    goodbye(name)"
   ]
  },
  {
   "cell_type": "code",
   "execution_count": null,
   "id": "c1c2dc70-1b7e-4e5f-a20c-8a3ffad80644",
   "metadata": {},
   "outputs": [],
   "source": []
  },
  {
   "cell_type": "markdown",
   "id": "bd21f072-a291-402b-99ea-5969850a4f70",
   "metadata": {},
   "source": [
    "IT IS GAME TIME"
   ]
  },
  {
   "cell_type": "markdown",
   "id": "50d8bda9-729c-4ce1-9200-132e4220f1e4",
   "metadata": {},
   "source": [
    "number game v1"
   ]
  },
  {
   "cell_type": "code",
   "execution_count": 79,
   "id": "ef2af540-0c37-4335-b5ab-b9f81ac5fd24",
   "metadata": {},
   "outputs": [
    {
     "name": "stdout",
     "output_type": "stream",
     "text": [
      "\n",
      "*********NUMBER GAME**********\n"
     ]
    }
   ],
   "source": [
    "print (\"\\n*********NUMBER GAME**********\")"
   ]
  },
  {
   "cell_type": "code",
   "execution_count": 71,
   "id": "b061c74e-2a30-42b1-9e9c-268e2c02607a",
   "metadata": {},
   "outputs": [],
   "source": [
    "import random as rd"
   ]
  },
  {
   "cell_type": "code",
   "execution_count": 69,
   "id": "f7a023e4-c630-4a94-a175-8cc33a37fdd1",
   "metadata": {},
   "outputs": [
    {
     "name": "stdout",
     "output_type": "stream",
     "text": [
      "emergency\n"
     ]
    }
   ],
   "source": [
    "if guess_number ==secret_number :\n",
    "    print (\"congratulations....for your healthy heart\")\n",
    "elif guess_number >secret_number:\n",
    "    print (\"oops.... you need to see the doctor\")\n",
    "else:\n",
    "    print (\"emergency\")\n",
    "    "
   ]
  },
  {
   "cell_type": "markdown",
   "id": "f791ac22-bc13-4f1d-8e24-53fb589ba15d",
   "metadata": {},
   "source": [
    "number game v2"
   ]
  },
  {
   "cell_type": "code",
   "execution_count": 83,
   "id": "03b15842-5c91-445e-ba40-7615bf7c9126",
   "metadata": {},
   "outputs": [
    {
     "name": "stdout",
     "output_type": "stream",
     "text": [
      "\n",
      "*********NUMBER GAME**********\n"
     ]
    }
   ],
   "source": [
    "print (\"\\n*********NUMBER GAME**********\")"
   ]
  },
  {
   "cell_type": "code",
   "execution_count": 68,
   "id": "45a29e16-8cde-409f-bba0-15018d576c3b",
   "metadata": {},
   "outputs": [],
   "source": [
    "secret_number = rd.randint(40,60) #randon number\n",
    "guess_number = 40 # guessed number"
   ]
  },
  {
   "cell_type": "markdown",
   "id": "085650c0-bfd5-47cf-8a7d-7461315f81e7",
   "metadata": {},
   "source": [
    "limitations \n",
    "* the number is not automated\n",
    "* the game fun\n",
    "* the secret number should e secret"
   ]
  },
  {
   "cell_type": "markdown",
   "id": "bc915781-422d-45c9-b2a4-6ffb42249677",
   "metadata": {},
   "source": [
    "make the secret number secret\n"
   ]
  },
  {
   "cell_type": "code",
   "execution_count": 75,
   "id": "fcbfe6e6-fbb1-4012-a7da-26f07fc13198",
   "metadata": {},
   "outputs": [],
   "source": []
  },
  {
   "cell_type": "markdown",
   "id": "4b916883-fc20-4d7f-a789-e84dc5d6e1d4",
   "metadata": {},
   "source": [
    " -create different functions  for different sections of the game\n",
    "-create one function that contains the entire game\n",
    "\n"
   ]
  },
  {
   "cell_type": "markdown",
   "id": "3f34d5ec-17c0-4504-baaa-08f6c8e783ac",
   "metadata": {},
   "source": []
  },
  {
   "cell_type": "code",
   "execution_count": 77,
   "id": "b8fe821e-ad85-4bcb-a13a-7415d04eaa1f",
   "metadata": {},
   "outputs": [
    {
     "name": "stdin",
     "output_type": "stream",
     "text": [
      " bennie\n",
      " 300\n",
      " kenya\n"
     ]
    }
   ],
   "source": [
    "name= input()\n",
    "age= input()\n",
    "country= input()"
   ]
  },
  {
   "cell_type": "markdown",
   "id": "116d79fd-6ca7-49c5-91f2-dabacb3cbd89",
   "metadata": {},
   "source": [
    "number game v3"
   ]
  },
  {
   "cell_type": "code",
   "execution_count": 86,
   "id": "79bc72cd-d3f0-4877-b29a-04d743151354",
   "metadata": {},
   "outputs": [
    {
     "name": "stdout",
     "output_type": "stream",
     "text": [
      "\n",
      "*********NUMBER GAME**********\n",
      "\n",
      " I'm am thing of a number between 1-10\n",
      "\n",
      "try guess the number\n",
      "\n"
     ]
    },
    {
     "name": "stdin",
     "output_type": "stream",
     "text": [
      " 5\n"
     ]
    },
    {
     "name": "stdout",
     "output_type": "stream",
     "text": [
      "emergency\n"
     ]
    }
   ],
   "source": [
    "print (\"\\n*********NUMBER GAME**********\")\n",
    "print (\"\\n I'm am thing of a number between 1-10\")\n",
    "print (\"\\ntry guess the number\")\n",
    "secret_number = rd.randint(40,60) #randon number\n",
    "\n",
    "print ()\n",
    "guess= int(input())\n",
    "if guess_number ==secret_number :\n",
    "    print (\"congratulations....for your healthy heart\")\n",
    "elif guess_number >secret_number:\n",
    "    print (\"oops.... you need to see the doctor\")\n",
    "else:\n",
    "    print (\"emergency\")\n"
   ]
  },
  {
   "cell_type": "code",
   "execution_count": 93,
   "id": "682a571b-0a0d-4670-9b53-a32fae6b7916",
   "metadata": {},
   "outputs": [
    {
     "name": "stdout",
     "output_type": "stream",
     "text": [
      "40\n",
      "41\n",
      "42\n",
      "43\n",
      "44\n",
      "45\n",
      "46\n",
      "47\n",
      "48\n",
      "49\n",
      "50\n",
      "51\n",
      "52\n",
      "53\n",
      "54\n",
      "55\n",
      "56\n",
      "57\n",
      "58\n",
      "59\n",
      "60\n"
     ]
    }
   ],
   "source": [
    "for num in range(40, 61):   #testing the range\n",
    "    print (num)"
   ]
  },
  {
   "cell_type": "markdown",
   "id": "9061e780-9b57-4a26-ad9b-a5e9ee59b317",
   "metadata": {},
   "source": [
    "number game v4"
   ]
  },
  {
   "cell_type": "code",
   "execution_count": null,
   "id": "ddae74df-9765-4e3e-ae95-bbf878890345",
   "metadata": {},
   "outputs": [
    {
     "name": "stdout",
     "output_type": "stream",
     "text": [
      "\n",
      "*********NUMBER GAME**********\n",
      "\n",
      " I'm am thing of a number between 40-60\n",
      "\n",
      "try guess the number\n"
     ]
    },
    {
     "name": "stdin",
     "output_type": "stream",
     "text": [
      " 47\n"
     ]
    },
    {
     "name": "stdout",
     "output_type": "stream",
     "text": [
      "emergency\n"
     ]
    }
   ],
   "source": [
    "print (\"\\n*********NUMBER GAME**********\")\n",
    "print (\"\\n I'm am thing of a number between 40-60\")\n",
    "print (\"\\ntry guess the number\")\n",
    "secret_number = rd.randint(40,60) #randon number\n",
    "\n",
    "for attempt in range(40,61):\n",
    "    guess= int(input())\n",
    "    if guess_number ==secret_number :\n",
    "        print (\"congratulations....for your healthy heart\")\n",
    "        break\n",
    "    elif guess_number >secret_number:\n",
    "        print (\"oops.... you need to see the doctor\")\n",
    "    else:\n",
    "        print (\"emergency\")"
   ]
  },
  {
   "cell_type": "code",
   "execution_count": 95,
   "id": "137905ad-4f99-4952-88d8-c325ac6a58cf",
   "metadata": {},
   "outputs": [
    {
     "data": {
      "text/plain": [
       "52"
      ]
     },
     "execution_count": 95,
     "metadata": {},
     "output_type": "execute_result"
    }
   ],
   "source": [
    "secret_number"
   ]
  },
  {
   "cell_type": "markdown",
   "id": "0028e553-45cd-4bc4-8766-ac0ae0232909",
   "metadata": {},
   "source": [
    "number game v5\n",
    "\n",
    "create a number of attempts"
   ]
  },
  {
   "cell_type": "code",
   "execution_count": null,
   "id": "30774f92-be17-4ae8-800e-b3872c44e555",
   "metadata": {},
   "outputs": [],
   "source": []
  },
  {
   "cell_type": "code",
   "execution_count": null,
   "id": "94f879a4-e526-4be9-a5c7-826c91335ee2",
   "metadata": {},
   "outputs": [],
   "source": []
  },
  {
   "cell_type": "code",
   "execution_count": null,
   "id": "deb82f26-e276-4233-a1af-630d08dd7e57",
   "metadata": {},
   "outputs": [],
   "source": []
  },
  {
   "cell_type": "code",
   "execution_count": null,
   "id": "ce409abb-b21d-498e-860d-fdcd5063a94e",
   "metadata": {},
   "outputs": [],
   "source": []
  },
  {
   "cell_type": "code",
   "execution_count": null,
   "id": "356f6b14-557b-4463-b2e1-a9bad0aa4813",
   "metadata": {},
   "outputs": [],
   "source": []
  },
  {
   "cell_type": "code",
   "execution_count": null,
   "id": "7ea04f30-3801-47e6-89de-ad3233275c99",
   "metadata": {},
   "outputs": [],
   "source": []
  },
  {
   "cell_type": "code",
   "execution_count": null,
   "id": "f48a2ebe-d1d2-488f-8dde-e001bffbbd89",
   "metadata": {},
   "outputs": [],
   "source": []
  },
  {
   "cell_type": "code",
   "execution_count": null,
   "id": "c7607a23-776a-444c-b78c-e765b89a8e7b",
   "metadata": {},
   "outputs": [],
   "source": []
  },
  {
   "cell_type": "code",
   "execution_count": null,
   "id": "cc81c2ee-4c41-4e10-b459-e8792dd16a6b",
   "metadata": {},
   "outputs": [],
   "source": []
  },
  {
   "cell_type": "code",
   "execution_count": null,
   "id": "ccc193af-8c4f-4f18-8311-274c1779926e",
   "metadata": {},
   "outputs": [],
   "source": []
  },
  {
   "cell_type": "code",
   "execution_count": null,
   "id": "317ed4e2-815d-468a-b1c5-681708f27209",
   "metadata": {},
   "outputs": [],
   "source": []
  },
  {
   "cell_type": "code",
   "execution_count": null,
   "id": "b13b0bd2-7db8-4f67-ae85-a278f7540036",
   "metadata": {},
   "outputs": [],
   "source": []
  },
  {
   "cell_type": "code",
   "execution_count": null,
   "id": "6b2a0266-c873-4b34-ba81-220445bc6040",
   "metadata": {},
   "outputs": [],
   "source": []
  },
  {
   "cell_type": "code",
   "execution_count": null,
   "id": "9f9c5a19-4342-4b63-b4af-19f39a3dc7f0",
   "metadata": {},
   "outputs": [],
   "source": []
  },
  {
   "cell_type": "code",
   "execution_count": null,
   "id": "93522a07-2626-4e5b-b578-16318a7694d2",
   "metadata": {},
   "outputs": [],
   "source": []
  },
  {
   "cell_type": "code",
   "execution_count": null,
   "id": "a1c6ef91-ed64-4241-9eb1-3992275b9559",
   "metadata": {},
   "outputs": [],
   "source": []
  },
  {
   "cell_type": "code",
   "execution_count": null,
   "id": "86c1ee60-8006-493b-b25a-5d719495a898",
   "metadata": {},
   "outputs": [],
   "source": []
  },
  {
   "cell_type": "code",
   "execution_count": null,
   "id": "9f38fd64-6d00-4032-b75d-cd9c48d98a44",
   "metadata": {},
   "outputs": [],
   "source": []
  }
 ],
 "metadata": {
  "kernelspec": {
   "display_name": "Python [conda env:base] *",
   "language": "python",
   "name": "conda-base-py"
  },
  "language_info": {
   "codemirror_mode": {
    "name": "ipython",
    "version": 3
   },
   "file_extension": ".py",
   "mimetype": "text/x-python",
   "name": "python",
   "nbconvert_exporter": "python",
   "pygments_lexer": "ipython3",
   "version": "3.12.7"
  }
 },
 "nbformat": 4,
 "nbformat_minor": 5
}
